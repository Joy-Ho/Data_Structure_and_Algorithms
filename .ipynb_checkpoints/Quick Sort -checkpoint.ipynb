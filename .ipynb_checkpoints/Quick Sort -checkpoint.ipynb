{
 "cells": [
  {
   "cell_type": "code",
   "execution_count": 33,
   "id": "05642c0c",
   "metadata": {},
   "outputs": [
    {
     "name": "stdout",
     "output_type": "stream",
     "text": [
      "[10, 30, 40, 80, 90]\n"
     ]
    }
   ],
   "source": [
    "# https://ithelp.ithome.com.tw/articles/10202330\n",
    "# https://www.geeksforgeeks.org/quick-sort/?ref=lbp\n",
    "#\n",
    "\n",
    "data = [89, 34, 23, 78, 67, 100, 66, 29, 79, 55, 78, 88, 92, 96, 96, 23]\n",
    "data = [10,80,30,90,40]\n",
    "\n",
    "def quicksort(data, left, right): # 輸入資料，和從兩邊開始的位置\n",
    "    if left >= right :            # 如果左邊大於右邊，就跳出function\n",
    "        return\n",
    "\n",
    "    i = left                      # 左邊的代理人\n",
    "    j = right                     # 右邊的代理人\n",
    "    key = data[left]                 # 基準點\n",
    "\n",
    "    while i != j: \n",
    "        \n",
    "        while data[j] > key and i < j:   # 從右邊開始找，找比基準點小的值\n",
    "            j -= 1\n",
    "        while data[i] <= key and i < j:  # 從左邊開始找，找比基準點大的值\n",
    "            i += 1                 \n",
    "        if i < j:                        # 當左右代理人沒有相遇時，互換值\n",
    "            data[i], data[j] = data[j], data[i]\n",
    "\n",
    "    # 將基準點歸換至代理人相遇點\n",
    "    data[left] = data[i] \n",
    "    data[i] = key\n",
    "    quicksort(data, left, i-1)   # 繼續處理較小部分的子循環\n",
    "    quicksort(data, i+1, right)  # 繼續處理較大部分的子循環\n",
    "\n",
    "quicksort(data, 0, len(data)-1)\n",
    "print(data)"
   ]
  },
  {
   "cell_type": "code",
   "execution_count": 6,
   "id": "41250006",
   "metadata": {},
   "outputs": [
    {
     "name": "stdout",
     "output_type": "stream",
     "text": [
      "[1, 2, 3, 4, 5, 7, 8]\n"
     ]
    }
   ],
   "source": [
    "def quicksort(arr, left, right):\n",
    "    if left < right:\n",
    "        partition_pos = partition(arr, left, right)\n",
    "        quicksort(arr, left, partition_pos-1)\n",
    "        quicksort(arr, partition_pos+1, right)\n",
    "\n",
    "def partition(arr, left, right):\n",
    "    i, j = left, right-1\n",
    "\n",
    "    while i < j:\n",
    "        \n",
    "        while i < right and arr[i] < arr[right]:\n",
    "            i += 1\n",
    "        while j > left and arr[j] >= arr[right]:\n",
    "            j -= 1\n",
    "\n",
    "        if i < j:\n",
    "            arr[i], arr[j] = arr[j], arr[i]\n",
    "        \n",
    "    if arr[i] > arr[right]:\n",
    "        arr[i], arr[right] = arr[right], arr[i]\n",
    "    return i\n",
    "\n",
    "arr = [2,1,8,5,7,3,4]\n",
    "quicksort(arr, 0, len(arr) -1)\n",
    "print(arr)"
   ]
  },
  {
   "cell_type": "code",
   "execution_count": null,
   "id": "5854a578",
   "metadata": {},
   "outputs": [],
   "source": []
  }
 ],
 "metadata": {
  "kernelspec": {
   "display_name": "Python 3 (ipykernel)",
   "language": "python",
   "name": "python3"
  },
  "language_info": {
   "codemirror_mode": {
    "name": "ipython",
    "version": 3
   },
   "file_extension": ".py",
   "mimetype": "text/x-python",
   "name": "python",
   "nbconvert_exporter": "python",
   "pygments_lexer": "ipython3",
   "version": "3.9.13"
  }
 },
 "nbformat": 4,
 "nbformat_minor": 5
}
