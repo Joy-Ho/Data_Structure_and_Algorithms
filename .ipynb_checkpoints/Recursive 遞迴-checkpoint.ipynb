{
 "cells": [
  {
   "cell_type": "code",
   "execution_count": null,
   "id": "20490b4f",
   "metadata": {},
   "outputs": [],
   "source": [
    "# Recursive 遞迴"
   ]
  },
  {
   "cell_type": "code",
   "execution_count": null,
   "id": "92182d55",
   "metadata": {},
   "outputs": [],
   "source": [
    "# Recursive例子: 最大公因數 (GCD)、費波納契數列 (Fibonacci Sequence)、河內塔 (Hanoi Tower)、N 個字元的排列組合。\n",
    "# https://kopu.chat/%E9%81%9E%E8%BF%B4-recursive-%E4%BB%8B%E7%B4%B9%E8%88%87%E7%B6%93%E5%85%B8%E9%A1%8C%E5%9E%8B/"
   ]
  },
  {
   "cell_type": "code",
   "execution_count": null,
   "id": "478bca77",
   "metadata": {},
   "outputs": [],
   "source": [
    "# Tower of Hanoi 河內塔"
   ]
  },
  {
   "cell_type": "code",
   "execution_count": 2,
   "id": "1cc6117f",
   "metadata": {},
   "outputs": [
    {
     "name": "stdout",
     "output_type": "stream",
     "text": [
      "A ---> B\n",
      "A ---> C\n",
      "B ---> C\n",
      "A ---> B\n",
      "C ---> A\n",
      "C ---> B\n",
      "A ---> B\n",
      "A ---> C\n",
      "B ---> C\n",
      "B ---> A\n",
      "C ---> A\n",
      "B ---> C\n",
      "A ---> B\n",
      "A ---> C\n",
      "B ---> C\n",
      "None\n"
     ]
    }
   ],
   "source": [
    "# : a: start, b: tmp, c:end\n",
    "def move (n,a,b,c):\n",
    "    if n==1:\n",
    "        print(a, '--->', c)\n",
    "        return\n",
    "    else:\n",
    "        move(n-1,a,c,b) # start ---> tmp\n",
    "        print(a, '--->', c) # start ---> end\n",
    "        move(n-1, b,a,c) # tmp ---> end\n",
    "\n",
    "print(move(4, 'A','B','C'))"
   ]
  },
  {
   "cell_type": "code",
   "execution_count": null,
   "id": "bc8884c1",
   "metadata": {},
   "outputs": [],
   "source": [
    "# Fibonacci Sequence 費氏數列(費波那契數列)\n",
    "# f(n) = 1 , n =1, 2\n",
    "# f(n) = f(n-1) + f(n-1), n > 2\n",
    "# 1, 1, 2, 3, 5, 8, 13, 21, 34, 55\n",
    "# https://www.csie.ntu.edu.tw/~b98902112/cpp_and_algo/cpp02/fibonacci.html"
   ]
  },
  {
   "cell_type": "code",
   "execution_count": 12,
   "id": "580a131e",
   "metadata": {},
   "outputs": [
    {
     "name": "stdout",
     "output_type": "stream",
     "text": [
      "21\n"
     ]
    }
   ],
   "source": [
    "def fibo(n):\n",
    "    if n == 1 or n == 2:\n",
    "        return 1\n",
    "    else:\n",
    "        return (fibo(n-1)+fibo(n-2))\n",
    "\n",
    "print(fibo(8))"
   ]
  },
  {
   "cell_type": "code",
   "execution_count": null,
   "id": "322b869d",
   "metadata": {},
   "outputs": [],
   "source": [
    "# n! 階層"
   ]
  },
  {
   "cell_type": "code",
   "execution_count": 14,
   "id": "65624799",
   "metadata": {},
   "outputs": [
    {
     "name": "stdout",
     "output_type": "stream",
     "text": [
      "120\n"
     ]
    }
   ],
   "source": [
    "def f(n):\n",
    "    if n == 1:\n",
    "        return 1\n",
    "    else:\n",
    "        return n * f(n-1)\n",
    "    \n",
    "print(f(5))"
   ]
  }
 ],
 "metadata": {
  "kernelspec": {
   "display_name": "Python 3 (ipykernel)",
   "language": "python",
   "name": "python3"
  },
  "language_info": {
   "codemirror_mode": {
    "name": "ipython",
    "version": 3
   },
   "file_extension": ".py",
   "mimetype": "text/x-python",
   "name": "python",
   "nbconvert_exporter": "python",
   "pygments_lexer": "ipython3",
   "version": "3.9.13"
  }
 },
 "nbformat": 4,
 "nbformat_minor": 5
}
