{
 "cells": [
  {
   "cell_type": "code",
   "execution_count": 3,
   "id": "f3f5cf1d",
   "metadata": {},
   "outputs": [
    {
     "name": "stdout",
     "output_type": "stream",
     "text": [
      "Element is present at index 3\n"
     ]
    }
   ],
   "source": [
    "# https://www.geeksforgeeks.org/python-program-for-binary-search/\n",
    "# Iterative Binary Search Function\n",
    "# It returns index of x in given array arr if present,\n",
    "# else returns -1\n",
    "def binary_search(arr, target):\n",
    "    low = 0\n",
    "    high = len(arr)-1\n",
    "    \n",
    "    while(low <= high):\n",
    "        mid = (low+high)//2\n",
    "        \n",
    "        if arr[mid] == target:\n",
    "            return mid\n",
    "        \n",
    "        # If x is smaller\n",
    "        elif arr[mid] < target:\n",
    "            low = mid+1\n",
    "        \n",
    "        # If x is greater    \n",
    "        elif arr[mid] > target:\n",
    "            high = mid-1\n",
    "        \n",
    "    return -1\n",
    "\n",
    "\n",
    "\n",
    "arr = [2, 3, 4, 10, 40]\n",
    "target = 10\n",
    "\n",
    "result = binary_search(arr, target)\n",
    "if result != -1:\n",
    "     print(\"Element is present at index\", str(result))\n",
    "else:\n",
    "    print(\"Element is not present in array\")"
   ]
  },
  {
   "cell_type": "code",
   "execution_count": null,
   "id": "137c1794",
   "metadata": {},
   "outputs": [],
   "source": []
  }
 ],
 "metadata": {
  "kernelspec": {
   "display_name": "Python 3 (ipykernel)",
   "language": "python",
   "name": "python3"
  },
  "language_info": {
   "codemirror_mode": {
    "name": "ipython",
    "version": 3
   },
   "file_extension": ".py",
   "mimetype": "text/x-python",
   "name": "python",
   "nbconvert_exporter": "python",
   "pygments_lexer": "ipython3",
   "version": "3.9.13"
  }
 },
 "nbformat": 4,
 "nbformat_minor": 5
}
