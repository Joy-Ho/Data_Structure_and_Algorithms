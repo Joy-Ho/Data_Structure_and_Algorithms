{
 "cells": [
  {
   "cell_type": "code",
   "execution_count": 3,
   "id": "a180549c",
   "metadata": {},
   "outputs": [
    {
     "name": "stdout",
     "output_type": "stream",
     "text": [
      "{'apple': 25, 'milk': 32, 'cheese': 15, 'coffee': 35}\n",
      "{'apple': 25, 'milk': 32, 'cheese': 15, 'coffee': 35, 'banana': 12}\n"
     ]
    }
   ],
   "source": [
    "# add a new element\n",
    "price = {'apple': 25, 'milk': 32, 'cheese': 15, 'coffee':35}\n",
    "print(price)\n",
    "\n",
    "price['banana'] = 12\n",
    "print(price)"
   ]
  },
  {
   "cell_type": "code",
   "execution_count": 4,
   "id": "2e70f4dc",
   "metadata": {},
   "outputs": [
    {
     "data": {
      "text/plain": [
       "['apple', 'milk', 'cheese', 'coffee', 'banana']"
      ]
     },
     "execution_count": 4,
     "metadata": {},
     "output_type": "execute_result"
    }
   ],
   "source": [
    "# show all keys\n",
    "list(price)"
   ]
  },
  {
   "cell_type": "code",
   "execution_count": 5,
   "id": "ae912094",
   "metadata": {},
   "outputs": [
    {
     "data": {
      "text/plain": [
       "{2: 4, 4: 16, 6: 36}"
      ]
     },
     "execution_count": 5,
     "metadata": {},
     "output_type": "execute_result"
    }
   ],
   "source": [
    "# comprehensions\n",
    "{x: x**2 for x in (2,4,6)}"
   ]
  },
  {
   "cell_type": "code",
   "execution_count": 6,
   "id": "5b322921",
   "metadata": {},
   "outputs": [
    {
     "name": "stdout",
     "output_type": "stream",
     "text": [
      "apple :  25\n",
      "milk :  32\n",
      "cheese :  15\n",
      "coffee :  35\n"
     ]
    }
   ],
   "source": [
    "# for loop\n",
    "price = {'apple': 25, 'milk': 32, 'cheese': 15, 'coffee':35}\n",
    "for key, value in price.items():\n",
    "    print(key,': ', value)"
   ]
  },
  {
   "cell_type": "code",
   "execution_count": 7,
   "id": "cd9b3667",
   "metadata": {},
   "outputs": [
    {
     "data": {
      "text/plain": [
       "dict_items([('apple', 25), ('milk', 32), ('cheese', 15), ('coffee', 35)])"
      ]
     },
     "execution_count": 7,
     "metadata": {},
     "output_type": "execute_result"
    }
   ],
   "source": [
    "# method --- .items()\n",
    "price.items()"
   ]
  },
  {
   "cell_type": "code",
   "execution_count": 8,
   "id": "273baeab",
   "metadata": {},
   "outputs": [
    {
     "data": {
      "text/plain": [
       "dict_keys(['apple', 'milk', 'cheese', 'coffee'])"
      ]
     },
     "execution_count": 8,
     "metadata": {},
     "output_type": "execute_result"
    }
   ],
   "source": [
    "# method --- .keys()\n",
    "price.keys()"
   ]
  },
  {
   "cell_type": "code",
   "execution_count": 9,
   "id": "becd9b2a",
   "metadata": {},
   "outputs": [
    {
     "data": {
      "text/plain": [
       "dict_values([25, 32, 15, 35])"
      ]
     },
     "execution_count": 9,
     "metadata": {},
     "output_type": "execute_result"
    }
   ],
   "source": [
    "# method --- .values()\n",
    "price.values()"
   ]
  },
  {
   "cell_type": "code",
   "execution_count": 10,
   "id": "dbc7e4b1",
   "metadata": {},
   "outputs": [
    {
     "data": {
      "text/plain": [
       "25"
      ]
     },
     "execution_count": 10,
     "metadata": {},
     "output_type": "execute_result"
    }
   ],
   "source": [
    "# method --- .get() - 1\n",
    "price.get('apple')"
   ]
  },
  {
   "cell_type": "code",
   "execution_count": 13,
   "id": "8b89aa5e",
   "metadata": {},
   "outputs": [
    {
     "data": {
      "text/plain": [
       "'Not found'"
      ]
     },
     "execution_count": 13,
     "metadata": {},
     "output_type": "execute_result"
    }
   ],
   "source": [
    "# method --- .get() - 2\n",
    "price.get('bread', 'Not found')"
   ]
  },
  {
   "cell_type": "code",
   "execution_count": 14,
   "id": "79b37bca",
   "metadata": {},
   "outputs": [
    {
     "data": {
      "text/plain": [
       "25"
      ]
     },
     "execution_count": 14,
     "metadata": {},
     "output_type": "execute_result"
    }
   ],
   "source": [
    "# method --- .pop()\n",
    "price.pop('apple')"
   ]
  },
  {
   "cell_type": "code",
   "execution_count": null,
   "id": "60809325",
   "metadata": {},
   "outputs": [],
   "source": []
  }
 ],
 "metadata": {
  "kernelspec": {
   "display_name": "Python 3 (ipykernel)",
   "language": "python",
   "name": "python3"
  },
  "language_info": {
   "codemirror_mode": {
    "name": "ipython",
    "version": 3
   },
   "file_extension": ".py",
   "mimetype": "text/x-python",
   "name": "python",
   "nbconvert_exporter": "python",
   "pygments_lexer": "ipython3",
   "version": "3.9.13"
  }
 },
 "nbformat": 4,
 "nbformat_minor": 5
}
