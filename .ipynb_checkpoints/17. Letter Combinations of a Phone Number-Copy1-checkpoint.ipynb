{
 "cells": [
  {
   "cell_type": "code",
   "execution_count": 4,
   "id": "074d3734",
   "metadata": {},
   "outputs": [
    {
     "data": {
      "text/plain": [
       "['ad', 'ae', 'af', 'bd', 'be', 'bf', 'cd', 'ce', 'cf']"
      ]
     },
     "execution_count": 4,
     "metadata": {},
     "output_type": "execute_result"
    }
   ],
   "source": [
    "class Solution(object):\n",
    "    def letterCombinations(self, input):\n",
    "        \n",
    "        dict = {0:[],\n",
    "                2:[\"a\", \"b\", \"c\"],\n",
    "                3:[\"d\", \"e\", \"f\"],\n",
    "                4:[\"g\", \"h\", \"i\"],\n",
    "                5:[\"j\", \"k\", \"l\"],\n",
    "                6:[\"m\", \"n\", \"o\"],\n",
    "                7:[\"p\", \"q\", \"r\", \"s\"],\n",
    "                8:[\"t\", \"u\", \"v\"],\n",
    "                9:[\"w\",\"x\", \"y\",\"z\"]}\n",
    "        list =[]\n",
    "\n",
    "        if (len(input) == 0):\n",
    "            first_num = 0\n",
    "            second_num = 0\n",
    "            third_num = 0\n",
    "            fourth_num = 0\n",
    "\n",
    "        if (len(input) == 1):\n",
    "            first_num = int(input[0])\n",
    "            second_num = 0\n",
    "            third_num = 0\n",
    "            fourth_num = 0\n",
    "            return(dict.get(first_num))\n",
    "\n",
    "        if (len(input) == 2):\n",
    "            first_num = int(input[0])\n",
    "            second_num = int(input[1])\n",
    "            third_num = 0\n",
    "            fourth_num = 0\n",
    "            for i in range(len(dict.get(first_num))):\n",
    "                for j in range(len(dict.get(second_num))):\n",
    "                    letter = dict.get(first_num)[i]\n",
    "                    letter = letter + dict.get(second_num)[j]\n",
    "                    list = list + [letter]\n",
    "\n",
    "        if(len(input) == 3):\n",
    "            first_num = int(input[0])\n",
    "            second_num = int(input[1])\n",
    "            third_num = int(input[2])\n",
    "            fourth_num = 0\n",
    "            for i in range(len(dict.get(first_num))):\n",
    "                for j in range(len(dict.get(second_num))):\n",
    "                    for k in range(len(dict.get(third_num))):\n",
    "                        letter = dict.get(first_num)[i] + dict.get(second_num)[j] + dict.get(third_num)[k]\n",
    "                        list = list + [letter]\n",
    "\n",
    "        if(len(input) == 4):\n",
    "            first_num = int(input[0])\n",
    "            second_num = int(input[1])\n",
    "            third_num = int(input[2])\n",
    "            fourth_num = int(input[3])\n",
    "            for i in range(len(dict.get(first_num))):\n",
    "                for j in range(len(dict.get(second_num))):\n",
    "                    for k in range(len(dict.get(third_num))):\n",
    "                        for l in range(len(dict.get(fourth_num))):\n",
    "                            letter = dict.get(first_num)[i] + dict.get(second_num)[j] + dict.get(third_num)[k] + dict.get(fourth_num)[l]\n",
    "                            list = list + [letter]\n",
    "\n",
    "\n",
    "\n",
    "        return(list)   \n",
    "  \n",
    "\n",
    "result = Solution()\n",
    "result.letterCombinations(\"23\")"
   ]
  },
  {
   "cell_type": "code",
   "execution_count": 31,
   "id": "175f4613",
   "metadata": {},
   "outputs": [
    {
     "data": {
      "text/plain": [
       "['ad', 'ae', 'af', 'bd', 'be', 'bf', 'cd', 'ce', 'cf']"
      ]
     },
     "execution_count": 31,
     "metadata": {},
     "output_type": "execute_result"
    }
   ],
   "source": [
    "class Solution:\n",
    "    def letterCombinations(self, digits):\n",
    "        res = []\n",
    "        digitToChar ={\"2\": \"abc\",\n",
    "                      \"3\":\"def\",\n",
    "                      \"4\":\"ghi\",\n",
    "                      \"5\":\"jkl\",\n",
    "                      \"6\":\"mno\",\n",
    "                      \"7\":\"qprs\",\n",
    "                      \"8\":\"tuv\",\n",
    "                      \"9\":\"wxyz\"}\n",
    "        def backtrack(i, curStr):\n",
    "            if len(curStr) == len (digits):\n",
    "                res.append(curStr)\n",
    "                return\n",
    "            for c in digitToChar[digits[i]]:\n",
    "                backtrack(i+1, curStr+c)\n",
    "        \n",
    "        if digits:\n",
    "            backtrack(0,\"\")\n",
    "        \n",
    "        return res \n",
    "    \n",
    "    \n",
    "result = Solution()\n",
    "result.letterCombinations(\"23\")"
   ]
  },
  {
   "cell_type": "code",
   "execution_count": 112,
   "id": "7bf79abf",
   "metadata": {},
   "outputs": [
    {
     "name": "stdout",
     "output_type": "stream",
     "text": [
      "['adg', 'adh', 'adi', 'aeg', 'aeh', 'aei', 'afg', 'afh', 'afi', 'bdg', 'bdh', 'bdi', 'beg', 'beh', 'bei', 'bfg', 'bfh', 'bfi', 'cdg', 'cdh', 'cdi', 'ceg', 'ceh', 'cei', 'cfg', 'cfh', 'cfi']\n"
     ]
    }
   ],
   "source": [
    "class Solution:\n",
    "    def letterCombinations(self, digits):\n",
    "        phone_map = {\"2\": \"abc\",\n",
    "                      \"3\":\"def\",\n",
    "                      \"4\":\"ghi\",\n",
    "                      \"5\":\"jkl\",\n",
    "                      \"6\":\"mno\",\n",
    "                      \"7\":\"qprs\",\n",
    "                      \"8\":\"tuv\",\n",
    "                      \"9\":\"wxyz\"}\n",
    "        \n",
    "        if digits == \"\":\n",
    "            return []\n",
    "        \n",
    "        numbers = phone_map[digits[0]]\n",
    "        \n",
    "        for digit in digits[1:]:\n",
    "            numbers = [old+new for old in numbers for new in phone_map[digit]]\n",
    "            \n",
    "        return numbers\n",
    "    \n",
    "result = Solution()\n",
    "print(result.letterCombinations(\"234\"))"
   ]
  },
  {
   "cell_type": "code",
   "execution_count": 85,
   "id": "703ca5d1",
   "metadata": {},
   "outputs": [
    {
     "name": "stdout",
     "output_type": "stream",
     "text": [
      "list1 = [1, 2, 3, 4, 5]\n",
      "list2 = [1, 2, 3, 4, 5]\n"
     ]
    }
   ],
   "source": [
    "# List Comprehension\n",
    "list1 = [x for x in range(1, 6)]\n",
    "print('list1 =', list1)\n",
    "\n",
    "\n",
    "list2 = []\n",
    "for x in range(1,6):\n",
    "    list2.append(x)\n",
    "print('list2 =', list2)"
   ]
  },
  {
   "cell_type": "code",
   "execution_count": 89,
   "id": "a8bb697c",
   "metadata": {},
   "outputs": [
    {
     "name": "stdout",
     "output_type": "stream",
     "text": [
      "list1 = ['14', '15', '16', '24', '25', '26', '34', '35', '36']\n",
      "list2 = ['14', '15', '16', '24', '25', '26', '34', '35', '36']\n"
     ]
    }
   ],
   "source": [
    "list1 = [a + b for a in '123' for b in '456']\n",
    "print('list1 =', list1)\n",
    "\n",
    "num1 = '123'\n",
    "num2 = '456'\n",
    "list2 = [a + b for a in num1 for b in num2]\n",
    "print('list2 =', list2)"
   ]
  },
  {
   "cell_type": "code",
   "execution_count": 133,
   "id": "07a06c23",
   "metadata": {},
   "outputs": [
    {
     "name": "stdout",
     "output_type": "stream",
     "text": [
      "list1 = ['1qtw', '1qtx', '1qty', '1qtz', '1quw', '1qux', '1quy', '1quz', '1qvw', '1qvx', '1qvy', '1qvz', '1ptw', '1ptx', '1pty', '1ptz', '1puw', '1pux', '1puy', '1puz', '1pvw', '1pvx', '1pvy', '1pvz', '1rtw', '1rtx', '1rty', '1rtz', '1ruw', '1rux', '1ruy', '1ruz', '1rvw', '1rvx', '1rvy', '1rvz', '1stw', '1stx', '1sty', '1stz', '1suw', '1sux', '1suy', '1suz', '1svw', '1svx', '1svy', '1svz', '2qtw', '2qtx', '2qty', '2qtz', '2quw', '2qux', '2quy', '2quz', '2qvw', '2qvx', '2qvy', '2qvz', '2ptw', '2ptx', '2pty', '2ptz', '2puw', '2pux', '2puy', '2puz', '2pvw', '2pvx', '2pvy', '2pvz', '2rtw', '2rtx', '2rty', '2rtz', '2ruw', '2rux', '2ruy', '2ruz', '2rvw', '2rvx', '2rvy', '2rvz', '2stw', '2stx', '2sty', '2stz', '2suw', '2sux', '2suy', '2suz', '2svw', '2svx', '2svy', '2svz']\n",
      "list1 會保留以前的，list1是累加自己的原本的值。\n",
      "\n",
      "\n",
      "list2 = ['1q', '1p', '1r', '1s', '2q', '2p', '2r', '2s']\n",
      "list2 = ['1t', '1u', '1v', '2t', '2u', '2v']\n",
      "list2 = ['1w', '1x', '1y', '1z', '2w', '2x', '2y', '2z']\n",
      "list2不會保留以前的，和list1不同之處在於for裡面的a，list1是自己(list1)，list2是新的變數(num2)。\n",
      "\n",
      "\n",
      "list3 = ['1t', '1u', '1v', '2t', '2u', '2v']\n",
      "list3 = ['1w', '1x', '1y', '1z', '2w', '2x', '2y', '2z']\n",
      "list3，和list2不同之處在於digits[1:] vs digits[0:]。\n",
      "\n",
      "\n",
      "以下是letterCombinations的List Comprehension之解\n",
      "Before => number:  qprs\n",
      "After  => numbers:  ['qtw', 'qtx', 'qty', 'qtz', 'quw', 'qux', 'quy', 'quz', 'qvw', 'qvx', 'qvy', 'qvz', 'ptw', 'ptx', 'pty', 'ptz', 'puw', 'pux', 'puy', 'puz', 'pvw', 'pvx', 'pvy', 'pvz', 'rtw', 'rtx', 'rty', 'rtz', 'ruw', 'rux', 'ruy', 'ruz', 'rvw', 'rvx', 'rvy', 'rvz', 'stw', 'stx', 'sty', 'stz', 'suw', 'sux', 'suy', 'suz', 'svw', 'svx', 'svy', 'svz']\n"
     ]
    }
   ],
   "source": [
    "phone_map = {\"2\": \"abc\", \"3\":\"def\", \"4\":\"ghi\", \"5\":\"jkl\",\"6\":\"mno\", \"7\":\"qprs\", \"8\":\"tuv\", \"9\":\"wxyz\"}\n",
    "\n",
    "digits = '789'\n",
    "list1 = '12'\n",
    "for d in digits[0:]:\n",
    "    list1 = [a + b for a in list1 for b in phone_map[d]]\n",
    "print('list1 =', list1)\n",
    "print('list1 會保留以前的，list1是累加自己的原本的值。\\n\\n')\n",
    "\n",
    "\n",
    "digits = '789'\n",
    "num2 = '12'\n",
    "for d in digits[0:]:\n",
    "    list2 = [a + b for a in num2 for b in phone_map[d]]\n",
    "    print('list2 =', list2)\n",
    "print('list2不會保留以前的，和list1不同之處在於for裡面的a，list1是自己(list1)，list2是新的變數(num2)。\\n\\n')\n",
    " \n",
    "\n",
    "digits = '789'\n",
    "num1 = '12'\n",
    "for d in digits[1:]:\n",
    "    list3 = [a + b for a in num1 for b in phone_map[d]]\n",
    "    print('list3 =', list3)\n",
    "print('list3，和list2不同之處在於digits[1:] vs digits[0:]。\\n\\n')\n",
    "\n",
    "print('以下是letterCombinations的List Comprehension之解')\n",
    "digits = \"789\"\n",
    "numbers=phone_map[digits[0]]\n",
    "print('Before => number: ', numbers)\n",
    "for digit in digits[1:]:\n",
    "    numbers = [a+b for a in numbers for b in phone_map[digit]]\n",
    "print('After  => numbers: ', numbers)"
   ]
  },
  {
   "cell_type": "code",
   "execution_count": 110,
   "id": "9065d903",
   "metadata": {},
   "outputs": [
    {
     "name": "stdout",
     "output_type": "stream",
     "text": [
      "Before => number:  qprs\n",
      "digit: 8\n",
      "After  => numbers:  ['qt', 'qu', 'qv', 'pt', 'pu', 'pv', 'rt', 'ru', 'rv', 'st', 'su', 'sv']\n",
      "=================================\n",
      "Before => number:  ['qt', 'qu', 'qv', 'pt', 'pu', 'pv', 'rt', 'ru', 'rv', 'st', 'su', 'sv']\n",
      "digit: 9\n",
      "After  => numbers:  ['qtw', 'qtx', 'qty', 'qtz', 'quw', 'qux', 'quy', 'quz', 'qvw', 'qvx', 'qvy', 'qvz', 'ptw', 'ptx', 'pty', 'ptz', 'puw', 'pux', 'puy', 'puz', 'pvw', 'pvx', 'pvy', 'pvz', 'rtw', 'rtx', 'rty', 'rtz', 'ruw', 'rux', 'ruy', 'ruz', 'rvw', 'rvx', 'rvy', 'rvz', 'stw', 'stx', 'sty', 'stz', 'suw', 'sux', 'suy', 'suz', 'svw', 'svx', 'svy', 'svz']\n",
      "=================================\n"
     ]
    }
   ],
   "source": [
    "digits = \"789\"\n",
    "numbers=phone_map[digits[0]]\n",
    "\n",
    "for digit in digits[1:]:\n",
    "    print('Before => number: ', numbers)\n",
    "    print('digit: '+ digit)\n",
    "      = [a+b for a in numbers for b in phone_map[digit]]\n",
    "    print('After  => numbers: ', numbers)\n",
    "    print('=================================')"
   ]
  },
  {
   "cell_type": "code",
   "execution_count": 103,
   "id": "f774a726",
   "metadata": {},
   "outputs": [
    {
     "data": {
      "text/plain": [
       "'89'"
      ]
     },
     "execution_count": 103,
     "metadata": {},
     "output_type": "execute_result"
    }
   ],
   "source": [
    "digits = '789'\n",
    "digits[1:]"
   ]
  },
  {
   "cell_type": "code",
   "execution_count": 64,
   "id": "938a4d0e",
   "metadata": {},
   "outputs": [
    {
     "data": {
      "text/plain": [
       "[(0, 0),\n",
       " (0, 1),\n",
       " (0, 2),\n",
       " (0, 3),\n",
       " (1, 0),\n",
       " (1, 1),\n",
       " (1, 2),\n",
       " (1, 3),\n",
       " (2, 0),\n",
       " (2, 1),\n",
       " (2, 2),\n",
       " (2, 3)]"
      ]
     },
     "execution_count": 64,
     "metadata": {},
     "output_type": "execute_result"
    }
   ],
   "source": [
    "arr4 = [(x, y) for x in range(3) for y in range(4)]\n",
    "arr4"
   ]
  },
  {
   "cell_type": "code",
   "execution_count": null,
   "id": "b951b9a6",
   "metadata": {},
   "outputs": [],
   "source": []
  }
 ],
 "metadata": {
  "kernelspec": {
   "display_name": "Python 3 (ipykernel)",
   "language": "python",
   "name": "python3"
  },
  "language_info": {
   "codemirror_mode": {
    "name": "ipython",
    "version": 3
   },
   "file_extension": ".py",
   "mimetype": "text/x-python",
   "name": "python",
   "nbconvert_exporter": "python",
   "pygments_lexer": "ipython3",
   "version": "3.9.13"
  }
 },
 "nbformat": 4,
 "nbformat_minor": 5
}
