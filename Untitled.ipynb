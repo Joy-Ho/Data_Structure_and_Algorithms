{
 "cells": [
  {
   "cell_type": "code",
   "execution_count": 19,
   "id": "dc43ad31",
   "metadata": {},
   "outputs": [
    {
     "name": "stdout",
     "output_type": "stream",
     "text": [
      "1\n",
      "2\n",
      "3\n"
     ]
    }
   ],
   "source": [
    "class Node:\n",
    "    def __init__(self, data):\n",
    "        self.data = data\n",
    "        self.next = None\n",
    "\n",
    "class LinkedList:\n",
    "    def __init__(self):\n",
    "        self.head = None\n",
    "\n",
    "if __name__ == '__main__':\n",
    "    linked_list = LinkedList()\n",
    "    \n",
    "    linked_list.head = Node(1)\n",
    "    second = Node(2)\n",
    "    third = Node(3)\n",
    "    \n",
    "    linked_list.head.next = second\n",
    "    second.next = third\n",
    "    \n",
    "    while linked_list.head != None:\n",
    "        print(linked_list.head.data)\n",
    "        linked_list.head = linked_list.head.next\n",
    "    \n",
    "    "
   ]
  },
  {
   "cell_type": "code",
   "execution_count": 6,
   "id": "18a1ecb3",
   "metadata": {},
   "outputs": [
    {
     "ename": "AttributeError",
     "evalue": "'NoneType' object has no attribute 'next'",
     "output_type": "error",
     "traceback": [
      "\u001b[1;31m---------------------------------------------------------------------------\u001b[0m",
      "\u001b[1;31mAttributeError\u001b[0m                            Traceback (most recent call last)",
      "\u001b[1;32m~\\AppData\\Local\\Temp\\ipykernel_32756\\236794886.py\u001b[0m in \u001b[0;36m<module>\u001b[1;34m\u001b[0m\n\u001b[0;32m      5\u001b[0m \u001b[1;33m\u001b[0m\u001b[0m\n\u001b[0;32m      6\u001b[0m \u001b[0ma\u001b[0m \u001b[1;33m=\u001b[0m \u001b[0mListNode\u001b[0m\u001b[1;33m(\u001b[0m\u001b[1;33m)\u001b[0m\u001b[1;33m\u001b[0m\u001b[1;33m\u001b[0m\u001b[0m\n\u001b[1;32m----> 7\u001b[1;33m \u001b[0ma\u001b[0m\u001b[1;33m.\u001b[0m\u001b[0mnext\u001b[0m\u001b[1;33m.\u001b[0m\u001b[0mnext\u001b[0m\u001b[1;33m\u001b[0m\u001b[1;33m\u001b[0m\u001b[0m\n\u001b[0m",
      "\u001b[1;31mAttributeError\u001b[0m: 'NoneType' object has no attribute 'next'"
     ]
    }
   ],
   "source": [
    "class ListNode:\n",
    "    def __init__(self, val=0, next=None):\n",
    "            self.val = val\n",
    "            self.next = next\n",
    "            \n",
    "a = ListNode()\n",
    "a.next.next"
   ]
  },
  {
   "cell_type": "code",
   "execution_count": 7,
   "id": "62cc163d",
   "metadata": {},
   "outputs": [
    {
     "data": {
      "text/plain": [
       "1"
      ]
     },
     "execution_count": 7,
     "metadata": {},
     "output_type": "execute_result"
    }
   ],
   "source": [
    "21 %2"
   ]
  },
  {
   "cell_type": "code",
   "execution_count": 9,
   "id": "c505917b",
   "metadata": {},
   "outputs": [
    {
     "name": "stdout",
     "output_type": "stream",
     "text": [
      "1\n"
     ]
    }
   ],
   "source": [
    "if 21%2:\n",
    "    print('1')"
   ]
  },
  {
   "cell_type": "code",
   "execution_count": null,
   "id": "1cb5e56b",
   "metadata": {},
   "outputs": [],
   "source": [
    "# Definition for singly-linked list.\n",
    "# class ListNode:\n",
    "#     def __init__(self, val=0, next=None):\n",
    "#         self.val = val\n",
    "#         self.next = next\n",
    "class Solution:\n",
    "    def reorderList(self, head: Optional[ListNode]) -> None:\n",
    "        \"\"\"\n",
    "        Do not return anything, modify head in-place instead.\n",
    "        \"\"\"\n",
    "        curr = head\n",
    "        index = 0\n",
    "        arr = []\n",
    "\n",
    "        while curr: \n",
    "            arr.append(curr.val)\n",
    "            index+=1\n",
    "            curr = curr.next\n",
    "       \n",
    "        arrLinkedList = [None] * (index)\n",
    "        for i in range(len(arr)):\n",
    "            tmp = ListNode(arr[i])\n",
    "            arrLinkedList[i] = tmp\n",
    "        \n",
    "        reorderList = head\n",
    "\n",
    "\n",
    "        for i in range(index//2):\n",
    "            if i == 0:\n",
    "                head.next =  arrLinkedList[index-1]\n",
    "                reorderList = reorderList.next\n",
    "            else:\n",
    "                reorderList.next = arrLinkedList[i]\n",
    "                reorderList = reorderList.next\n",
    "                reorderList.next = arrLinkedList[index-i-1]\n",
    "                reorderList = reorderList.next\n",
    "                 \n",
    "        if index%2:\n",
    "            reorderList.next = arrLinkedList[index//2]\n",
    "            reorderList = reorderList.next\n",
    "\n",
    "        return head \n",
    "\n"
   ]
  },
  {
   "cell_type": "code",
   "execution_count": null,
   "id": "0e713908",
   "metadata": {},
   "outputs": [],
   "source": []
  },
  {
   "cell_type": "code",
   "execution_count": null,
   "id": "8b76c861",
   "metadata": {},
   "outputs": [],
   "source": []
  },
  {
   "cell_type": "code",
   "execution_count": 12,
   "id": "fa933e0b",
   "metadata": {},
   "outputs": [
    {
     "name": "stdout",
     "output_type": "stream",
     "text": [
      "{'orange', 'banana', 'apple', 'pear'}\n",
      "True\n",
      "False\n"
     ]
    }
   ],
   "source": [
    "basket = {'apple', 'orange', 'apple', 'pear', 'orange', 'banana'}\n",
    "print(basket)# fast membership testing\n",
    "print('orange' in basket)\n",
    "print('crabgrass' in basket)"
   ]
  },
  {
   "cell_type": "code",
   "execution_count": 10,
   "id": "26217f50",
   "metadata": {},
   "outputs": [
    {
     "name": "stdout",
     "output_type": "stream",
     "text": [
      "a:  {'r', 'a', 'c', 'd', 'b'}\n",
      "b:  {'l', 'm', 'z', 'c', 'a'}\n",
      "a - b:  {'d', 'b', 'r'}\n",
      "a | b:  {'l', 'r', 'm', 'z', 'a', 'c', 'd', 'b'}\n",
      "a & b:  {'a', 'c'}\n",
      "a ^ b:  {'l', 'b', 'r', 'm', 'd', 'z'}\n"
     ]
    }
   ],
   "source": [
    "a = set('abracadabra')\n",
    "b = set('alacazam')\n",
    "print(\"a: \", a) # unique letters in a\n",
    "print(\"b: \", b) # unique letters in b\n",
    "print(\"a - b: \", a - b) # letters in a but not in b\n",
    "print(\"a | b: \", a | b) # letters in a or b or both\n",
    "print(\"a & b: \", a & b) # letters in both a and b\n",
    "print(\"a ^ b: \", a ^ b) # letters in a or b but not both"
   ]
  },
  {
   "cell_type": "code",
   "execution_count": 13,
   "id": "3bbe258e",
   "metadata": {},
   "outputs": [
    {
     "name": "stdout",
     "output_type": "stream",
     "text": [
      "a:  {'b', 'a', 'c'}\n"
     ]
    }
   ],
   "source": [
    "a = set('aaabbccc')\n",
    "print(\"a: \", a)"
   ]
  },
  {
   "cell_type": "code",
   "execution_count": 14,
   "id": "73e7448b",
   "metadata": {},
   "outputs": [
    {
     "data": {
      "text/plain": [
       "{'d', 'r'}"
      ]
     },
     "execution_count": 14,
     "metadata": {},
     "output_type": "execute_result"
    }
   ],
   "source": [
    "a = {x for x in 'abracadabra' if x not in 'abc'}\n",
    "a"
   ]
  },
  {
   "cell_type": "code",
   "execution_count": null,
   "id": "6c34dde6",
   "metadata": {},
   "outputs": [],
   "source": []
  },
  {
   "cell_type": "code",
   "execution_count": 3,
   "id": "07b8c80e",
   "metadata": {},
   "outputs": [
    {
     "ename": "NameError",
     "evalue": "name 'math' is not defined",
     "output_type": "error",
     "traceback": [
      "\u001b[1;31m---------------------------------------------------------------------------\u001b[0m",
      "\u001b[1;31mNameError\u001b[0m                                 Traceback (most recent call last)",
      "\u001b[1;32m~\\AppData\\Local\\Temp\\ipykernel_4404\\392817806.py\u001b[0m in \u001b[0;36m<module>\u001b[1;34m\u001b[0m\n\u001b[1;32m----> 1\u001b[1;33m \u001b[0mmath\u001b[0m\u001b[1;33m.\u001b[0m\u001b[0mceil\u001b[0m\u001b[1;33m(\u001b[0m\u001b[1;36m5\u001b[0m\u001b[1;33m/\u001b[0m\u001b[1;36m2\u001b[0m\u001b[1;33m)\u001b[0m\u001b[1;33m\u001b[0m\u001b[1;33m\u001b[0m\u001b[0m\n\u001b[0m",
      "\u001b[1;31mNameError\u001b[0m: name 'math' is not defined"
     ]
    }
   ],
   "source": [
    "math.ceil(5/2)\n"
   ]
  },
  {
   "cell_type": "code",
   "execution_count": 3,
   "id": "aaff0497",
   "metadata": {},
   "outputs": [
    {
     "name": "stderr",
     "output_type": "stream",
     "text": [
      "C:\\Users\\admin\\AppData\\Local\\Temp\\ipykernel_6904\\2093455651.py:2: DeprecationWarning: `np.int` is a deprecated alias for the builtin `int`. To silence this warning, use `int` by itself. Doing this will not modify any behavior and is safe. When replacing `np.int`, you may wish to use e.g. `np.int64` or `np.int32` to specify the precision. If you wish to review your current use, check the release note link for additional information.\n",
      "Deprecated in NumPy 1.20; for more details and guidance: https://numpy.org/devdocs/release/1.20.0-notes.html#deprecations\n",
      "  book = np.zeros(10, dtype=np.int)\n"
     ]
    },
    {
     "data": {
      "text/plain": [
       "array([0, 0, 0, 0, 0, 0, 0, 0, 0, 0])"
      ]
     },
     "execution_count": 3,
     "metadata": {},
     "output_type": "execute_result"
    }
   ],
   "source": [
    "import numpy as np\n",
    "book = np.zeros(10, dtype=np.int)\n",
    "book\n"
   ]
  },
  {
   "cell_type": "code",
   "execution_count": 2,
   "id": "81ba4c7d",
   "metadata": {},
   "outputs": [
    {
     "name": "stderr",
     "output_type": "stream",
     "text": [
      "C:\\Users\\admin\\AppData\\Local\\Temp\\ipykernel_6904\\3055502244.py:1: DeprecationWarning: `np.int` is a deprecated alias for the builtin `int`. To silence this warning, use `int` by itself. Doing this will not modify any behavior and is safe. When replacing `np.int`, you may wish to use e.g. `np.int64` or `np.int32` to specify the precision. If you wish to review your current use, check the release note link for additional information.\n",
      "Deprecated in NumPy 1.20; for more details and guidance: https://numpy.org/devdocs/release/1.20.0-notes.html#deprecations\n",
      "  e = np.zeros((101,101), dtype=np.int)\n"
     ]
    },
    {
     "data": {
      "text/plain": [
       "array([[0, 0, 0, ..., 0, 0, 0],\n",
       "       [0, 0, 0, ..., 0, 0, 0],\n",
       "       [0, 0, 0, ..., 0, 0, 0],\n",
       "       ...,\n",
       "       [0, 0, 0, ..., 0, 0, 0],\n",
       "       [0, 0, 0, ..., 0, 0, 0],\n",
       "       [0, 0, 0, ..., 0, 0, 0]])"
      ]
     },
     "execution_count": 2,
     "metadata": {},
     "output_type": "execute_result"
    }
   ],
   "source": [
    "e = np.zeros((101,101), dtype=np.int)\n",
    "e"
   ]
  },
  {
   "cell_type": "code",
   "execution_count": null,
   "id": "124eb840",
   "metadata": {},
   "outputs": [
    {
     "name": "stderr",
     "output_type": "stream",
     "text": [
      "C:\\Users\\admin\\AppData\\Local\\Temp\\ipykernel_6904\\1071538565.py:18: DeprecationWarning: `np.int` is a deprecated alias for the builtin `int`. To silence this warning, use `int` by itself. Doing this will not modify any behavior and is safe. When replacing `np.int`, you may wish to use e.g. `np.int64` or `np.int32` to specify the precision. If you wish to review your current use, check the release note link for additional information.\n",
      "Deprecated in NumPy 1.20; for more details and guidance: https://numpy.org/devdocs/release/1.20.0-notes.html#deprecations\n",
      "  book = np.zeros(101, dtype=np.int)  # 用來表示是否走過\n",
      "C:\\Users\\admin\\AppData\\Local\\Temp\\ipykernel_6904\\1071538565.py:19: DeprecationWarning: `np.int` is a deprecated alias for the builtin `int`. To silence this warning, use `int` by itself. Doing this will not modify any behavior and is safe. When replacing `np.int`, you may wish to use e.g. `np.int64` or `np.int32` to specify the precision. If you wish to review your current use, check the release note link for additional information.\n",
      "Deprecated in NumPy 1.20; for more details and guidance: https://numpy.org/devdocs/release/1.20.0-notes.html#deprecations\n",
      "  e = np.zeros((101,101), dtype=np.int) # 用來儲存地圖資料\n"
     ]
    }
   ],
   "source": [
    "import numpy as np\n",
    "\n",
    "'''\n",
    "輸入驗證資料：\n",
    "5 8\n",
    "1 2 2\n",
    "1 5 10\n",
    "2 3 3\n",
    "2 5 7\n",
    "3 1 4\n",
    "3 4 4\n",
    "4 5 5\n",
    "5 3 3\n",
    "'''\n",
    "\n",
    "# 初始化\n",
    "min1=99999999       #表正無窮\n",
    "book = np.zeros(101, dtype=np.int)  # 用來表示是否走過\n",
    "e = np.zeros((101,101), dtype=np.int) # 用來儲存地圖資料\n",
    "\n",
    "def dfs (cur, dis): #cur是目前所在城市編號\n",
    "    global min1\n",
    "    if dis > min1: return   #如果目前走過的路已經大於之前找到的最短路徑，返回\n",
    "    if cur == n:\n",
    "        if dis < min1:\n",
    "            min1 = dis\n",
    "            return\n",
    "    for j in range(1, n+1): #從1號城市到n號城市依次嘗試\n",
    "        #判斷目前城市到城市j是否有路，並判斷是否再以走過的路逕中\n",
    "        if e[cur][j] != 99999999 and book[j]==0 :\n",
    "            book[j]=1  #標記城市已在路徑中\n",
    "            dfs(j, dis+e[cur][j]) #從城市j再出發，繼續尋找目標城市\n",
    "            book[j]=0 #前一部探索完畢後，取消對城市j的標記\n",
    "\n",
    "    return\n",
    "\n",
    "#初始化二維矩陣\n",
    "n, m = map(int, input().split(' '))\n",
    "for i in range(1, n+1):\n",
    "    for j in range(1, n+1):\n",
    "        if i==j:\n",
    "            e[i][j]=0\n",
    "        else: \n",
    "            e[i][j]=99999999\n",
    "\n",
    "#讀入城市之間的道路\n",
    "for i in range(1, m+1):\n",
    "    a, b, c = map(int, input().split(' '))\n",
    "    e[a][b] = c #unidirectional\n",
    "\n",
    "#從1號城市出發\n",
    "book[1]=1 #標記1號城市已在路徑中\n",
    "dfs(1, 0) #1表示目前所在城市編號，0表示已走過的路徑\n",
    "print(min1) # 列印最短路徑"
   ]
  },
  {
   "cell_type": "code",
   "execution_count": null,
   "id": "99268f57",
   "metadata": {},
   "outputs": [],
   "source": []
  }
 ],
 "metadata": {
  "kernelspec": {
   "display_name": "Python 3 (ipykernel)",
   "language": "python",
   "name": "python3"
  },
  "language_info": {
   "codemirror_mode": {
    "name": "ipython",
    "version": 3
   },
   "file_extension": ".py",
   "mimetype": "text/x-python",
   "name": "python",
   "nbconvert_exporter": "python",
   "pygments_lexer": "ipython3",
   "version": "3.9.13"
  }
 },
 "nbformat": 4,
 "nbformat_minor": 5
}
