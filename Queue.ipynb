{
 "cells": [
  {
   "cell_type": "code",
   "execution_count": 1,
   "id": "ccb84d7a",
   "metadata": {},
   "outputs": [
    {
     "name": "stdout",
     "output_type": "stream",
     "text": [
      "Initial queue\n",
      "['a', 'b', 'c']\n",
      "\n",
      "Elements dequeued from queue\n",
      "a\n",
      "b\n",
      "c\n",
      "\n",
      "Queue after removing elements\n",
      "[]\n"
     ]
    }
   ],
   "source": [
    "# demonstrate queue implementation\n",
    "# using list\n",
    "# https://www.geeksforgeeks.org/queue-in-python/#:~:text=Like%20stack%2C%20queue%20is%20a,came%20first%20is%20served%20first.\n",
    "  \n",
    "# Initializing a queue\n",
    "queue = []\n",
    "  \n",
    "# Adding elements to the queue\n",
    "queue.append('a')\n",
    "queue.append('b')\n",
    "queue.append('c')\n",
    "  \n",
    "print(\"Initial queue\")\n",
    "print(queue)\n",
    "  \n",
    "# Removing elements from the queue\n",
    "print(\"\\nElements dequeued from queue\")\n",
    "print(queue.pop(0))\n",
    "print(queue.pop(0))\n",
    "print(queue.pop(0))\n",
    "  \n",
    "print(\"\\nQueue after removing elements\")\n",
    "print(queue)\n",
    "  \n",
    "# Uncommenting print(queue.pop(0))\n",
    "# will raise and IndexError\n",
    "# as the queue is now empty"
   ]
  },
  {
   "cell_type": "code",
   "execution_count": 4,
   "id": "f6310e2c",
   "metadata": {},
   "outputs": [
    {
     "name": "stdout",
     "output_type": "stream",
     "text": [
      "Initial queue\n",
      "['a', 'b', 'c']\n",
      "\n",
      "Elements dequeued from queue\n",
      "b\n",
      "\n",
      "Queue after removing elements\n",
      "['a', 'c']\n"
     ]
    }
   ],
   "source": [
    "# demonstrate queue implementation\n",
    "# using list\n",
    "# https://www.geeksforgeeks.org/queue-in-python/#:~:text=Like%20stack%2C%20queue%20is%20a,came%20first%20is%20served%20first.\n",
    "  \n",
    "# Initializing a queue\n",
    "queue = []\n",
    "  \n",
    "# Adding elements to the queue\n",
    "queue.append('a')\n",
    "queue.append('b')\n",
    "queue.append('c')\n",
    "  \n",
    "print(\"Initial queue\")\n",
    "print(queue)\n",
    "  \n",
    "# Removing elements from the queue\n",
    "print(\"\\nElements dequeued from queue\")\n",
    "print(queue.pop(1))\n",
    "  \n",
    "print(\"\\nQueue after removing elements\")\n",
    "print(queue)\n",
    "  \n",
    "# Uncommenting print(queue.pop(0))\n",
    "# will raise and IndexError\n",
    "# as the queue is now empty"
   ]
  },
  {
   "cell_type": "code",
   "execution_count": null,
   "id": "12df59f5",
   "metadata": {},
   "outputs": [],
   "source": []
  }
 ],
 "metadata": {
  "kernelspec": {
   "display_name": "Python 3 (ipykernel)",
   "language": "python",
   "name": "python3"
  },
  "language_info": {
   "codemirror_mode": {
    "name": "ipython",
    "version": 3
   },
   "file_extension": ".py",
   "mimetype": "text/x-python",
   "name": "python",
   "nbconvert_exporter": "python",
   "pygments_lexer": "ipython3",
   "version": "3.9.13"
  }
 },
 "nbformat": 4,
 "nbformat_minor": 5
}
