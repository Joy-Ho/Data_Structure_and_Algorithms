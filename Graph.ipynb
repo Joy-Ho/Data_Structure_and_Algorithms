{
 "cells": [
  {
   "cell_type": "code",
   "execution_count": 1,
   "id": "78f461c7",
   "metadata": {},
   "outputs": [
    {
     "name": "stdout",
     "output_type": "stream",
     "text": [
      "Vertices: {0, 1, 2, 3, 4}\n",
      "Edges: {(0, 1), (1, 2), (3, 4), (0, 3), (1, 3)}\n",
      "[[0 1 0 1 0]\n",
      " [1 0 1 1 0]\n",
      " [0 1 0 0 0]\n",
      " [1 1 0 0 1]\n",
      " [0 0 0 1 0]]\n"
     ]
    }
   ],
   "source": [
    "# https://ithelp.ithome.com.tw/articles/10275657\n",
    "# Adjacency Matrix\n",
    "\n",
    "import numpy as np\n",
    " \n",
    "vertices = {0, 1, 2, 3, 4}\n",
    "edges = {(0, 1), (1, 2), (0, 3), (1, 3), (3, 4)}\n",
    "adjacencyMatrix = np.zeros((5, 5)).astype(int)\n",
    "for edge in edges:\n",
    "    v1 = edge[0]\n",
    "    v2 = edge[1]\n",
    "    adjacencyMatrix[v1][v2] = 1\n",
    "    adjacencyMatrix[v2][v1] = 1\n",
    "print(\"Vertices:\",vertices)\n",
    "print(\"Edges:\",edges)\n",
    "print(adjacencyMatrix)\n",
    "#Vertices: {0, 1, 2, 3, 4}\n",
    "#Edges: {(0, 1), (1, 2), (1, 3), (0, 3), (3, 4)}\n",
    "#[[0 1 0 1 0]\n",
    "# [1 0 1 1 0]\n",
    "# [0 1 0 0 0]\n",
    "# [1 1 0 0 1]\n",
    "# [0 0 0 1 0]]"
   ]
  },
  {
   "cell_type": "code",
   "execution_count": null,
   "id": "78699bc0",
   "metadata": {},
   "outputs": [],
   "source": []
  }
 ],
 "metadata": {
  "kernelspec": {
   "display_name": "Python 3 (ipykernel)",
   "language": "python",
   "name": "python3"
  },
  "language_info": {
   "codemirror_mode": {
    "name": "ipython",
    "version": 3
   },
   "file_extension": ".py",
   "mimetype": "text/x-python",
   "name": "python",
   "nbconvert_exporter": "python",
   "pygments_lexer": "ipython3",
   "version": "3.9.13"
  }
 },
 "nbformat": 4,
 "nbformat_minor": 5
}
