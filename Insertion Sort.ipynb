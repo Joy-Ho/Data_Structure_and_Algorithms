{
 "cells": [
  {
   "cell_type": "code",
   "execution_count": 6,
   "id": "e139f322",
   "metadata": {},
   "outputs": [
    {
     "data": {
      "text/plain": [
       "[5, 6, 11, 12, 13]"
      ]
     },
     "execution_count": 6,
     "metadata": {},
     "output_type": "execute_result"
    }
   ],
   "source": [
    "# sort small to large\n",
    "\n",
    "arr = [12,11,13,5,6]\n",
    "\n",
    "for i in range(len(arr)):\n",
    "    for j in range(i):\n",
    "        if arr[i] < arr[j]:\n",
    "            tmp = arr[i]\n",
    "            for k in range(i, j, -1):\n",
    "                arr[k] = arr[k-1]\n",
    "            arr[j] = tmp\n",
    "                \n",
    "arr"
   ]
  },
  {
   "cell_type": "code",
   "execution_count": 7,
   "id": "472156d5",
   "metadata": {},
   "outputs": [
    {
     "data": {
      "text/plain": [
       "[2, 3, 4, 5, 6, 70]"
      ]
     },
     "execution_count": 7,
     "metadata": {},
     "output_type": "execute_result"
    }
   ],
   "source": [
    "# sort small to large\n",
    "\n",
    "arr = [6,2,3,4,5,70]\n",
    "\n",
    "for i in range(len(arr)):\n",
    "    for j in range(i):\n",
    "        if arr[i] < arr[j]:\n",
    "            tmp = arr[i]\n",
    "            for k in range(i-1, j-1, -1):\n",
    "                arr[k+1] = arr[k]\n",
    "            arr[j] = tmp\n",
    "                \n",
    "arr"
   ]
  },
  {
   "cell_type": "code",
   "execution_count": null,
   "id": "605c6822",
   "metadata": {},
   "outputs": [],
   "source": []
  }
 ],
 "metadata": {
  "kernelspec": {
   "display_name": "Python 3 (ipykernel)",
   "language": "python",
   "name": "python3"
  },
  "language_info": {
   "codemirror_mode": {
    "name": "ipython",
    "version": 3
   },
   "file_extension": ".py",
   "mimetype": "text/x-python",
   "name": "python",
   "nbconvert_exporter": "python",
   "pygments_lexer": "ipython3",
   "version": "3.9.13"
  }
 },
 "nbformat": 4,
 "nbformat_minor": 5
}
