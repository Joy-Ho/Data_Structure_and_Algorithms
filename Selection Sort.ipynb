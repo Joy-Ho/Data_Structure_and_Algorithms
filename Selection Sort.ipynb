{
 "cells": [
  {
   "cell_type": "code",
   "execution_count": 10,
   "id": "8a01b788",
   "metadata": {},
   "outputs": [
    {
     "name": "stdout",
     "output_type": "stream",
     "text": [
      "12 9 6 5 3 "
     ]
    }
   ],
   "source": [
    "arr = [6,5,9,3,12]\n",
    "\n",
    "for i in range(len(arr)):\n",
    "    largest = i\n",
    "    for j in range(len(arr)-i): # -i\n",
    "        if arr[largest] < arr[i+j]:\n",
    "            largest = i+j\n",
    "    arr[i], arr[largest] = arr[largest], arr[i]\n",
    "\n",
    "for k in range(len(arr)):\n",
    "    print('%d' %(arr[k]), end = ' ')"
   ]
  },
  {
   "cell_type": "code",
   "execution_count": 11,
   "id": "b5b4a834",
   "metadata": {},
   "outputs": [
    {
     "name": "stdout",
     "output_type": "stream",
     "text": [
      "12 9 6 5 3 "
     ]
    }
   ],
   "source": [
    "arr = [6,5,9,3,12]\n",
    "\n",
    "for i in range(len(arr)):\n",
    "    largest = i\n",
    "    for j in range(i,len(arr)):   # start from i\n",
    "        if arr[largest] < arr[j]: #\n",
    "            largest = j           # \n",
    "    arr[i], arr[largest] = arr[largest], arr[i]\n",
    "\n",
    "for k in range(len(arr)):\n",
    "    print('%d' %(arr[k]), end = ' ')"
   ]
  },
  {
   "cell_type": "code",
   "execution_count": null,
   "id": "f97102aa",
   "metadata": {},
   "outputs": [],
   "source": []
  }
 ],
 "metadata": {
  "kernelspec": {
   "display_name": "Python 3 (ipykernel)",
   "language": "python",
   "name": "python3"
  },
  "language_info": {
   "codemirror_mode": {
    "name": "ipython",
    "version": 3
   },
   "file_extension": ".py",
   "mimetype": "text/x-python",
   "name": "python",
   "nbconvert_exporter": "python",
   "pygments_lexer": "ipython3",
   "version": "3.9.13"
  }
 },
 "nbformat": 4,
 "nbformat_minor": 5
}
