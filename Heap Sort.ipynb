{
 "cells": [
  {
   "cell_type": "code",
   "execution_count": 41,
   "id": "c193cc37",
   "metadata": {},
   "outputs": [
    {
     "name": "stdout",
     "output_type": "stream",
     "text": [
      "13 11 12 5 6 7 Sorted array is\n",
      "5 6 7 11 12 13 "
     ]
    }
   ],
   "source": [
    "# https://www.geeksforgeeks.org/heap-sort/\n",
    "# https://www.geeksforgeeks.org/heap-data-structure/?ref=lbp\n",
    " \n",
    "def heapify(arr, N, i):\n",
    "    largest = i  # Initialize largest as root\n",
    "    l = 2 * i + 1     # left = 2*i + 1\n",
    "    r = 2 * i + 2     # right = 2*i + 2\n",
    " \n",
    "    # See if left child of root exists and is\n",
    "    # greater than root\n",
    "    if l < N and arr[largest] < arr[l]:\n",
    "        largest = l\n",
    " \n",
    "    # See if right child of root exists and is\n",
    "    # greater than root\n",
    "    if r < N and arr[largest] < arr[r]:\n",
    "        largest = r\n",
    " \n",
    "    # Change root, if needed\n",
    "    if largest != i:\n",
    "        arr[i], arr[largest] = arr[largest], arr[i]  # swap\n",
    " \n",
    "        # Heapify the root.\n",
    "        heapify(arr, N, largest)\n",
    "\n",
    "# The main function to sort an array of given size\n",
    " \n",
    "def heapSort(arr):\n",
    "    N = len(arr)\n",
    " \n",
    "    # Build a maxheap.\n",
    "    for i in range(N//2 - 1, -1, -1):\n",
    "        heapify(arr, N, i)\n",
    "    \n",
    " \n",
    "    # One by one extract elements\n",
    "    for i in range(N-1, 0, -1):\n",
    "        arr[i], arr[0] = arr[0], arr[i]  # swap\n",
    "        heapify(arr, i, 0)\n",
    " \n",
    " \n",
    "# Driver's code\n",
    "if __name__ == '__main__':\n",
    "    arr = [12, 11, 13, 5, 6, 7]\n",
    " \n",
    "    # Function call\n",
    "    heapSort(arr)\n",
    "    N = len(arr)\n",
    " \n",
    "    print(\"Sorted array is\")\n",
    "    for i in range(N):\n",
    "        print(\"%d\" % arr[i], end=\" \")"
   ]
  },
  {
   "cell_type": "code",
   "execution_count": null,
   "id": "b7f137c6",
   "metadata": {},
   "outputs": [],
   "source": []
  }
 ],
 "metadata": {
  "kernelspec": {
   "display_name": "Python 3 (ipykernel)",
   "language": "python",
   "name": "python3"
  },
  "language_info": {
   "codemirror_mode": {
    "name": "ipython",
    "version": 3
   },
   "file_extension": ".py",
   "mimetype": "text/x-python",
   "name": "python",
   "nbconvert_exporter": "python",
   "pygments_lexer": "ipython3",
   "version": "3.9.13"
  }
 },
 "nbformat": 4,
 "nbformat_minor": 5
}
