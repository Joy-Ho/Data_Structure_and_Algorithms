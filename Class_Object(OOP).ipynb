{
 "cells": [
  {
   "cell_type": "code",
   "execution_count": null,
   "id": "53c663e7",
   "metadata": {},
   "outputs": [],
   "source": [
    "# class(類別)包含attribute(屬性)和method(方法) => class = 變數 + 方法"
   ]
  },
  {
   "cell_type": "code",
   "execution_count": null,
   "id": "543914f8",
   "metadata": {},
   "outputs": [],
   "source": []
  },
  {
   "cell_type": "code",
   "execution_count": null,
   "id": "fc0df139",
   "metadata": {},
   "outputs": [],
   "source": []
  },
  {
   "cell_type": "code",
   "execution_count": 13,
   "id": "91906ef0",
   "metadata": {},
   "outputs": [
    {
     "name": "stdout",
     "output_type": "stream",
     "text": [
      "<__main__.MyClass object at 0x0000016215C9D5B0>\n",
      "5\n"
     ]
    }
   ],
   "source": [
    "# create a class\n",
    "class MyClass:\n",
    "    x = 5\n",
    "\n",
    "# Create Object\n",
    "p1 = MyClass()\n",
    "\n",
    "print(p1)\n",
    "print(p1.x)"
   ]
  },
  {
   "cell_type": "code",
   "execution_count": 4,
   "id": "51369a52",
   "metadata": {},
   "outputs": [
    {
     "name": "stdout",
     "output_type": "stream",
     "text": [
      "<__main__.Person object at 0x0000016215CAAE80>\n",
      "John\n",
      "36\n"
     ]
    }
   ],
   "source": [
    "# __init__()\n",
    "# built-in function 內建 (每個class都有__init__() function，當create new class時，會初始化，執行__init__())\n",
    "\n",
    "class Person:\n",
    "    def __init__(self, name, age):\n",
    "        self.name = name\n",
    "        self.age = age\n",
    "\n",
    "p1 = Person(\"John\", 36)\n",
    "\n",
    "print(p1)\n",
    "print(p1.name)\n",
    "print(p1.age)"
   ]
  },
  {
   "cell_type": "code",
   "execution_count": 5,
   "id": "a593e2f8",
   "metadata": {},
   "outputs": [
    {
     "name": "stdout",
     "output_type": "stream",
     "text": [
      "<__main__.Person object at 0x0000016215C9D970>\n"
     ]
    }
   ],
   "source": [
    "# 有__str__( ) vs 沒有__str__ (1)\n",
    "# __str__() 語法 : f\"{}\"\n",
    "class Person:\n",
    "    def __init__(self, name, age):\n",
    "        self.name = name\n",
    "        self.age = age\n",
    "\n",
    "p1 = Person(\"John\", 36)\n",
    "\n",
    "print(p1)"
   ]
  },
  {
   "cell_type": "code",
   "execution_count": 9,
   "id": "5b3e5f9d",
   "metadata": {},
   "outputs": [
    {
     "name": "stdout",
     "output_type": "stream",
     "text": [
      "John(36)(male)\n"
     ]
    }
   ],
   "source": [
    "# 有__str__( ) vs 沒有__str__ (2)\n",
    "# __str__() 語法 : f\"{}\"class Person:\n",
    "    def __init__(self, name, age, gender):\n",
    "        self.name = name\n",
    "        self.age = age\n",
    "        self.gender = gender\n",
    "    \n",
    "    def __str__(self):\n",
    "        return f\"{self.name}({self.age})({self.gender})\"\n",
    "        \n",
    "p1 = Person(\"John\", 36, \"male\")\n",
    "\n",
    "print(p1)"
   ]
  },
  {
   "cell_type": "code",
   "execution_count": 12,
   "id": "1574f0d4",
   "metadata": {},
   "outputs": [
    {
     "name": "stdout",
     "output_type": "stream",
     "text": [
      "Hello my name is John\n"
     ]
    }
   ],
   "source": [
    "# create an Object method\n",
    "\n",
    "class Person:\n",
    "    def __init__(self, name, age):\n",
    "        self.name = name\n",
    "        self.age = age\n",
    "        \n",
    "    def myfunc(self):\n",
    "        print(\"Hello my name is \"+ self.name)\n",
    "\n",
    "p1 = Person(\"John\", 36)\n",
    "p1.myfunc()"
   ]
  },
  {
   "cell_type": "code",
   "execution_count": null,
   "id": "7439c456",
   "metadata": {},
   "outputs": [],
   "source": []
  },
  {
   "cell_type": "code",
   "execution_count": 16,
   "id": "14d31daa",
   "metadata": {},
   "outputs": [
    {
     "name": "stdout",
     "output_type": "stream",
     "text": [
      "<__main__.Person object at 0x0000016215812070>\n",
      "1520767007040\n",
      "1520779206768\n"
     ]
    }
   ],
   "source": [
    "class Person:\n",
    "    pass\n",
    "\n",
    "if __name__ ==\"__main__\":\n",
    "    robert = Person()\n",
    "    print(robert)\n",
    "    print(id(Person))\n",
    "    print(id(robert))"
   ]
  },
  {
   "cell_type": "code",
   "execution_count": 22,
   "id": "eb0ab2bf",
   "metadata": {},
   "outputs": [
    {
     "name": "stdout",
     "output_type": "stream",
     "text": [
      "Robert\n"
     ]
    }
   ],
   "source": [
    "class Person:\n",
    "    name = None\n",
    "    age = None\n",
    "    \n",
    "    def setData(self, name, age):\n",
    "        self.name = name\n",
    "        self.age = age\n",
    "        \n",
    "robert = Person()\n",
    "robert.setData(\"Robert\", 48)\n",
    "\n",
    "print(robert.name)"
   ]
  },
  {
   "cell_type": "code",
   "execution_count": null,
   "id": "f9a525b2",
   "metadata": {},
   "outputs": [],
   "source": []
  },
  {
   "cell_type": "code",
   "execution_count": null,
   "id": "ffa6fb69",
   "metadata": {},
   "outputs": [],
   "source": []
  }
 ],
 "metadata": {
  "kernelspec": {
   "display_name": "Python 3 (ipykernel)",
   "language": "python",
   "name": "python3"
  },
  "language_info": {
   "codemirror_mode": {
    "name": "ipython",
    "version": 3
   },
   "file_extension": ".py",
   "mimetype": "text/x-python",
   "name": "python",
   "nbconvert_exporter": "python",
   "pygments_lexer": "ipython3",
   "version": "3.9.13"
  }
 },
 "nbformat": 4,
 "nbformat_minor": 5
}
