{
 "cells": [
  {
   "cell_type": "code",
   "execution_count": null,
   "id": "40e5b859",
   "metadata": {},
   "outputs": [],
   "source": [
    "# Set: unordered, no duplicate\n",
    "a = set('aaabbccc')\n",
    "print(\"a: \", a)"
   ]
  },
  {
   "cell_type": "code",
   "execution_count": 2,
   "id": "75cc257d",
   "metadata": {},
   "outputs": [
    {
     "name": "stdout",
     "output_type": "stream",
     "text": [
      "{'apple', 'orange', 'pineapple', 'strawberry', 'banana'}\n",
      "True\n",
      "False\n"
     ]
    }
   ],
   "source": [
    "# in: check whether an element exists\n",
    "fruit = {'apple', 'apple', 'strawberry', 'pineapple', 'orange', 'banana', 'orange' }\n",
    "print(fruit)\n",
    "print('apple' in fruit)\n",
    "print('kiwi' in fruit)"
   ]
  },
  {
   "cell_type": "code",
   "execution_count": 3,
   "id": "99953d9d",
   "metadata": {},
   "outputs": [
    {
     "data": {
      "text/plain": [
       "{'e', 'l', 'p'}"
      ]
     },
     "execution_count": 3,
     "metadata": {},
     "output_type": "execute_result"
    }
   ],
   "source": [
    "# set comprehension\n",
    "a = {x for x in 'apple' if x not in 'abc'}\n",
    "a"
   ]
  },
  {
   "cell_type": "code",
   "execution_count": 4,
   "id": "f6292a37",
   "metadata": {},
   "outputs": [
    {
     "name": "stdout",
     "output_type": "stream",
     "text": [
      "a:  {'c', 'a', 'b', 'd'}\n",
      "b:  {'f', 'c', 'e', 'd'}\n",
      "a - b:  {'a', 'b'}\n",
      "a | b:  {'f', 'e', 'c', 'a', 'b', 'd'}\n",
      "a & b:  {'c', 'd'}\n",
      "a ^ b:  {'f', 'a', 'b', 'e'}\n"
     ]
    }
   ],
   "source": [
    "# mathematical operations like union, intersection, difference, and symmetric difference.\n",
    "a = set('aaabbccdd')\n",
    "b = set('cdddeeeff')\n",
    "print(\"a: \", a) # unique letters in a\n",
    "print(\"b: \", b) # unique letters in b\n",
    "print(\"a - b: \", a - b) # letters in a but not in b\n",
    "print(\"a | b: \", a | b) # letters in a or b or both\n",
    "print(\"a & b: \", a & b) # letters in both a and b\n",
    "print(\"a ^ b: \", a ^ b) # letters in a or b but not both\n"
   ]
  },
  {
   "cell_type": "code",
   "execution_count": 7,
   "id": "080678c7",
   "metadata": {},
   "outputs": [
    {
     "name": "stdout",
     "output_type": "stream",
     "text": [
      "Before:  {'apple', 'strawberry', 'pineapple', 'banana'}\n",
      "After:   {'apple', 'orange', 'pineapple', 'strawberry', 'banana'}\n"
     ]
    }
   ],
   "source": [
    "# add an \n",
    "fruit = {'apple', 'strawberry', 'pineapple', 'banana'}\n",
    "print('Before: ', fruit)\n",
    "fruit.add('orange')\n",
    "print('After:  ', fruit)"
   ]
  },
  {
   "cell_type": "code",
   "execution_count": null,
   "id": "53d8b907",
   "metadata": {},
   "outputs": [],
   "source": []
  }
 ],
 "metadata": {
  "kernelspec": {
   "display_name": "Python 3 (ipykernel)",
   "language": "python",
   "name": "python3"
  },
  "language_info": {
   "codemirror_mode": {
    "name": "ipython",
    "version": 3
   },
   "file_extension": ".py",
   "mimetype": "text/x-python",
   "name": "python",
   "nbconvert_exporter": "python",
   "pygments_lexer": "ipython3",
   "version": "3.9.13"
  }
 },
 "nbformat": 4,
 "nbformat_minor": 5
}
